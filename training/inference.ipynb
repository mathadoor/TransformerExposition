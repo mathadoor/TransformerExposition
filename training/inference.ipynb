{
 "cells": [
  {
   "cell_type": "markdown",
   "source": [
    "# Global Setup"
   ],
   "metadata": {
    "collapsed": false
   }
  },
  {
   "cell_type": "code",
   "execution_count": 12,
   "metadata": {
    "collapsed": true,
    "ExecuteTime": {
     "end_time": "2023-07-07T19:02:36.589554915Z",
     "start_time": "2023-07-07T19:02:34.777972172Z"
    }
   },
   "outputs": [
    {
     "name": "stderr",
     "output_type": "stream",
     "text": [
      "Found cached dataset opus100 (/home/mathadoor/.cache/huggingface/datasets/opus100/en-es/0.0.0/256f3196b69901fb0c79810ef468e2c4ed84fbd563719920b1ff1fdc750f7704)\n"
     ]
    },
    {
     "data": {
      "text/plain": "  0%|          | 0/3 [00:00<?, ?it/s]",
      "application/vnd.jupyter.widget-view+json": {
       "version_major": 2,
       "version_minor": 0,
       "model_id": "b4f1a4d3673a4ce7bfbf4b712dc34ee7"
      }
     },
     "metadata": {},
     "output_type": "display_data"
    }
   ],
   "source": [
    "import collections\n",
    "\n",
    "from transformers import AutoModelForSeq2SeqLM, AutoTokenizer, pipeline\n",
    "from datasets import load_dataset\n",
    "import numpy as np\n",
    "import torch\n",
    "import evaluate\n",
    "\n",
    "DATASET_NAME = \"opus100\"\n",
    "SPLIT = \"train\" # train or validation\n",
    "SOURCE_LANG = \"en\"\n",
    "TGT_LANG = \"es\"\n",
    "PREFIX = \"translate English to Spanish: \"\n",
    "METRIC_TYPE = \"sacrebleu\"\n",
    "CKPT_DIR = \"opus100-ckpt\"\n",
    "CKPT_NUM = 99000\n",
    "CKPT = f\"./{CKPT_DIR}/checkpoint-{CKPT_NUM}\"\n",
    "\n",
    "# Load the model\"./opus100-ckpt/checkpoint-99000\"\n",
    "model = AutoModelForSeq2SeqLM.from_pretrained(CKPT)\n",
    "\n",
    "# Load the dataset\n",
    "opus100 = load_dataset(\"opus100\", f\"{SOURCE_LANG}-{TGT_LANG}\")\n",
    "opus100 = opus100[SPLIT].train_test_split(test_size=0.2)\n",
    "\n",
    "# Load the tokenizer\n",
    "tokenizer = AutoTokenizer.from_pretrained(CKPT)\n",
    "metric = evaluate.load(METRIC_TYPE)"
   ]
  },
  {
   "cell_type": "markdown",
   "source": [
    "# Helper Functions"
   ],
   "metadata": {
    "collapsed": false
   }
  },
  {
   "cell_type": "code",
   "execution_count": 13,
   "outputs": [],
   "source": [
    "def preprocess_function(examples):\n",
    "  # Prefix for tranlation is added in the beginning to the source text\n",
    "  inputs = [PREFIX + example[SOURCE_LANG] for example in examples[\"translation\"]]\n",
    "  targets = [example[TGT_LANG] for example in examples[\"translation\"]]\n",
    "  model_inputs = tokenizer(inputs, text_target=targets, max_length=128, truncation=True)\n",
    "\n",
    "  return model_inputs\n",
    "\n",
    "\n",
    "def postprocess_text(preds, labels):\n",
    "\n",
    "  # Post-processing: remove unnecessary whitespaces and combine bpe tokens\n",
    "  preds = [pred.strip() for pred in preds]\n",
    "  labels = [[label.strip()] for label in labels]\n",
    "\n",
    "  return preds, labels\n",
    "\n",
    "def compute_metrics(eval_preds):\n",
    "  preds, labels = eval_preds\n",
    "  if isinstance(preds, tuple):\n",
    "    preds = preds[0]\n",
    "  decoded_preds = tokenizer.batch_decode(preds, skip_special_tokens=True)\n",
    "\n",
    "  labels = np.where(labels != -100, labels, tokenizer.pad_token_id)\n",
    "  decoded_labels = tokenizer.batch_decode(labels, skip_special_tokens=True)\n",
    "\n",
    "  decoded_preds, decoded_labels = postprocess_text(decoded_preds, decoded_labels)\n",
    "\n",
    "  result = metric.compute(predictions=decoded_preds, references=decoded_labels)\n",
    "  result = {\"bleu\": result[\"score\"]}\n",
    "\n",
    "  prediction_lens = [np.count_nonzero(pred != tokenizer.pad_token_id) for pred in preds]\n",
    "  result[\"gen_len\"] = np.mean(prediction_lens)\n",
    "  result = {k: round(v, 4) for k, v in result.items()}\n",
    "  return result"
   ],
   "metadata": {
    "collapsed": false,
    "ExecuteTime": {
     "end_time": "2023-07-07T19:02:37.955626697Z",
     "start_time": "2023-07-07T19:02:37.953906073Z"
    }
   }
  },
  {
   "cell_type": "code",
   "execution_count": 14,
   "outputs": [],
   "source": [
    "encoder_in = tokenizer(opus100[\"train\"][0][\"translation\"][\"en\"], return_tensors=\"pt\").input_ids\n",
    "decoder_in = tokenizer(opus100[\"train\"][0][\"translation\"][\"es\"], return_tensors=\"pt\").input_ids\n"
   ],
   "metadata": {
    "collapsed": false,
    "ExecuteTime": {
     "end_time": "2023-07-07T19:02:40.564489262Z",
     "start_time": "2023-07-07T19:02:40.561243053Z"
    }
   }
  },
  {
   "cell_type": "code",
   "execution_count": 15,
   "outputs": [
    {
     "data": {
      "text/plain": "['T_destination',\n '__annotations__',\n '__call__',\n '__class__',\n '__delattr__',\n '__dict__',\n '__dir__',\n '__doc__',\n '__eq__',\n '__format__',\n '__ge__',\n '__getattr__',\n '__getattribute__',\n '__gt__',\n '__hash__',\n '__init__',\n '__init_subclass__',\n '__le__',\n '__lt__',\n '__module__',\n '__ne__',\n '__new__',\n '__reduce__',\n '__reduce_ex__',\n '__repr__',\n '__setattr__',\n '__setstate__',\n '__sizeof__',\n '__str__',\n '__subclasshook__',\n '__weakref__',\n '_apply',\n '_auto_class',\n '_backward_compatibility_gradient_checkpointing',\n '_backward_hooks',\n '_backward_pre_hooks',\n '_buffers',\n '_call_impl',\n '_convert_head_mask_to_5d',\n '_create_repo',\n '_expand_inputs_for_generation',\n '_extract_past_from_model_output',\n '_forward_hooks',\n '_forward_hooks_with_kwargs',\n '_forward_pre_hooks',\n '_forward_pre_hooks_with_kwargs',\n '_from_config',\n '_get_backward_hooks',\n '_get_backward_pre_hooks',\n '_get_decoder_start_token_id',\n '_get_files_timestamps',\n '_get_logits_processor',\n '_get_logits_warper',\n '_get_name',\n '_get_resized_embeddings',\n '_get_resized_lm_head',\n '_get_stopping_criteria',\n '_hook_rss_memory_post_forward',\n '_hook_rss_memory_pre_forward',\n '_init_weights',\n '_initialize_weights',\n '_is_full_backward_hook',\n '_is_hf_initialized',\n '_keep_in_fp32_modules',\n '_keys_to_ignore_on_load_missing',\n '_keys_to_ignore_on_load_unexpected',\n '_keys_to_ignore_on_save',\n '_load_from_state_dict',\n '_load_pretrained_model',\n '_load_pretrained_model_low_mem',\n '_load_state_dict_post_hooks',\n '_load_state_dict_pre_hooks',\n '_maybe_initialize_input_ids_for_generation',\n '_maybe_warn_non_full_backward_hook',\n '_merge_criteria_processor_list',\n '_modules',\n '_named_members',\n '_no_split_modules',\n '_non_persistent_buffers_set',\n '_parameters',\n '_prepare_attention_mask_for_generation',\n '_prepare_decoder_input_ids_for_generation',\n '_prepare_encoder_decoder_kwargs_for_generation',\n '_prepare_model_inputs',\n '_register_load_state_dict_pre_hook',\n '_register_state_dict_hook',\n '_reorder_cache',\n '_replicate_for_data_parallel',\n '_resize_token_embeddings',\n '_save_to_state_dict',\n '_set_default_torch_dtype',\n '_set_gradient_checkpointing',\n '_shift_right',\n '_skip_keys_device_placement',\n '_slow_forward',\n '_state_dict_hooks',\n '_state_dict_pre_hooks',\n '_tie_encoder_decoder_weights',\n '_tie_or_clone_weights',\n '_update_model_kwargs_for_generation',\n '_upload_modified_files',\n '_validate_model_class',\n '_validate_model_kwargs',\n '_version',\n 'add_memory_hooks',\n 'add_module',\n 'adjust_logits_during_generation',\n 'apply',\n 'assisted_decoding',\n 'base_model',\n 'base_model_prefix',\n 'beam_sample',\n 'beam_search',\n 'bfloat16',\n 'block',\n 'buffers',\n 'call_super_init',\n 'can_generate',\n 'children',\n 'compute_transition_scores',\n 'config',\n 'config_class',\n 'constrained_beam_search',\n 'contrastive_search',\n 'cpu',\n 'create_extended_attention_mask_for_decoder',\n 'cuda',\n 'deparallelize',\n 'device',\n 'device_map',\n 'disable_input_require_grads',\n 'double',\n 'dropout',\n 'dtype',\n 'dummy_inputs',\n 'dump_patches',\n 'embed_tokens',\n 'enable_input_require_grads',\n 'estimate_tokens',\n 'eval',\n 'extra_repr',\n 'final_layer_norm',\n 'float',\n 'floating_point_ops',\n 'forward',\n 'framework',\n 'from_pretrained',\n 'generate',\n 'generation_config',\n 'get_buffer',\n 'get_extended_attention_mask',\n 'get_extra_state',\n 'get_head_mask',\n 'get_input_embeddings',\n 'get_memory_footprint',\n 'get_output_embeddings',\n 'get_parameter',\n 'get_position_embeddings',\n 'get_submodule',\n 'gradient_checkpointing',\n 'gradient_checkpointing_disable',\n 'gradient_checkpointing_enable',\n 'greedy_search',\n 'group_beam_search',\n 'half',\n 'init_weights',\n 'invert_attention_mask',\n 'ipu',\n 'is_decoder',\n 'is_gradient_checkpointing',\n 'is_parallelizable',\n 'load_state_dict',\n 'load_tf_weights',\n 'main_input_name',\n 'model_parallel',\n 'modules',\n 'name_or_path',\n 'named_buffers',\n 'named_children',\n 'named_modules',\n 'named_parameters',\n 'num_parameters',\n 'parallelize',\n 'parameters',\n 'post_init',\n 'prepare_inputs_for_generation',\n 'prune_heads',\n 'push_to_hub',\n 'register_backward_hook',\n 'register_buffer',\n 'register_for_auto_class',\n 'register_forward_hook',\n 'register_forward_pre_hook',\n 'register_full_backward_hook',\n 'register_full_backward_pre_hook',\n 'register_load_state_dict_post_hook',\n 'register_module',\n 'register_parameter',\n 'register_state_dict_pre_hook',\n 'requires_grad_',\n 'reset_memory_hooks_state',\n 'resize_position_embeddings',\n 'resize_token_embeddings',\n 'retrieve_modules_from_names',\n 'reverse_bettertransformer',\n 'sample',\n 'save_pretrained',\n 'set_extra_state',\n 'set_input_embeddings',\n 'share_memory',\n 'state_dict',\n 'supports_gradient_checkpointing',\n 'tie_weights',\n 'to',\n 'to_bettertransformer',\n 'to_empty',\n 'train',\n 'training',\n 'type',\n 'warnings_issued',\n 'xpu',\n 'zero_grad']"
     },
     "execution_count": 15,
     "metadata": {},
     "output_type": "execute_result"
    }
   ],
   "source": [
    "dir(model.decoder)"
   ],
   "metadata": {
    "collapsed": false,
    "ExecuteTime": {
     "end_time": "2023-07-07T19:02:42.116793464Z",
     "start_time": "2023-07-07T19:02:42.113660248Z"
    }
   }
  },
  {
   "cell_type": "code",
   "execution_count": 16,
   "outputs": [
    {
     "data": {
      "text/plain": "tensor([[12707,   107,   127,     7,    15,     6,    62,    31,    60,   365,\n          3211,    55,     1]])"
     },
     "execution_count": 16,
     "metadata": {},
     "output_type": "execute_result"
    }
   ],
   "source": [
    "encoder_in"
   ],
   "metadata": {
    "collapsed": false,
    "ExecuteTime": {
     "end_time": "2023-07-07T19:02:50.060211755Z",
     "start_time": "2023-07-07T19:02:50.056439869Z"
    }
   }
  },
  {
   "cell_type": "code",
   "execution_count": 5,
   "outputs": [],
   "source": [
    "logits = model(input_ids=encoder_in, decoder_input_ids=decoder_in)[\"logits\"]\n"
   ],
   "metadata": {
    "collapsed": false,
    "ExecuteTime": {
     "end_time": "2023-07-07T18:55:41.537641735Z",
     "start_time": "2023-07-07T18:55:41.495024773Z"
    }
   }
  },
  {
   "cell_type": "code",
   "execution_count": 6,
   "outputs": [],
   "source": [
    "probs = torch.softmax(logits, dim=2)\n"
   ],
   "metadata": {
    "collapsed": false,
    "ExecuteTime": {
     "end_time": "2023-07-07T18:55:42.301972924Z",
     "start_time": "2023-07-07T18:55:42.299092205Z"
    }
   }
  },
  {
   "cell_type": "code",
   "execution_count": 7,
   "outputs": [
    {
     "data": {
      "text/plain": "tensor([[1.0000, 1.0000, 1.0000, 1.0000, 1.0000, 1.0000, 1.0000, 1.0000, 1.0000,\n         1.0000]], grad_fn=<SumBackward1>)"
     },
     "execution_count": 7,
     "metadata": {},
     "output_type": "execute_result"
    }
   ],
   "source": [
    "torch.sum(probs, dim=2)\n"
   ],
   "metadata": {
    "collapsed": false,
    "ExecuteTime": {
     "end_time": "2023-07-07T18:55:42.713932768Z",
     "start_time": "2023-07-07T18:55:42.712338922Z"
    }
   }
  },
  {
   "cell_type": "code",
   "execution_count": 25,
   "outputs": [
    {
     "name": "stderr",
     "output_type": "stream",
     "text": [
      "  0%|          | 0/100 [00:02<?, ?it/s]\n"
     ]
    },
    {
     "ename": "KeyboardInterrupt",
     "evalue": "",
     "output_type": "error",
     "traceback": [
      "\u001B[0;31m---------------------------------------------------------------------------\u001B[0m",
      "\u001B[0;31mKeyboardInterrupt\u001B[0m                         Traceback (most recent call last)",
      "Cell \u001B[0;32mIn[25], line 7\u001B[0m\n\u001B[1;32m      5\u001B[0m counts \u001B[38;5;241m=\u001B[39m collections\u001B[38;5;241m.\u001B[39mCounter([])\n\u001B[1;32m      6\u001B[0m \u001B[38;5;28;01mfor\u001B[39;00m i \u001B[38;5;129;01min\u001B[39;00m tqdm(\u001B[38;5;28mrange\u001B[39m(\u001B[38;5;241m100\u001B[39m)):\n\u001B[0;32m----> 7\u001B[0m   data_point \u001B[38;5;241m=\u001B[39m \u001B[43mopus100\u001B[49m\u001B[43m[\u001B[49m\u001B[38;5;124;43m\"\u001B[39;49m\u001B[38;5;124;43mtrain\u001B[39;49m\u001B[38;5;124;43m\"\u001B[39;49m\u001B[43m]\u001B[49m\u001B[43m[\u001B[49m\u001B[38;5;124;43m'\u001B[39;49m\u001B[38;5;124;43mtranslation\u001B[39;49m\u001B[38;5;124;43m'\u001B[39;49m\u001B[43m]\u001B[49m[i]\n\u001B[1;32m      8\u001B[0m   \u001B[38;5;28minput\u001B[39m \u001B[38;5;241m=\u001B[39m tokenizer(data_point[\u001B[38;5;124m'\u001B[39m\u001B[38;5;124men\u001B[39m\u001B[38;5;124m'\u001B[39m])\u001B[38;5;241m.\u001B[39minput_ids\n\u001B[1;32m      9\u001B[0m   output \u001B[38;5;241m=\u001B[39m tokenizer(data_point[\u001B[38;5;124m'\u001B[39m\u001B[38;5;124mes\u001B[39m\u001B[38;5;124m'\u001B[39m])\u001B[38;5;241m.\u001B[39minput_ids\n",
      "File \u001B[0;32m~/miniconda3/envs/bcos/lib/python3.10/site-packages/datasets/arrow_dataset.py:2792\u001B[0m, in \u001B[0;36mDataset.__getitem__\u001B[0;34m(self, key)\u001B[0m\n\u001B[1;32m   2790\u001B[0m \u001B[38;5;28;01mdef\u001B[39;00m \u001B[38;5;21m__getitem__\u001B[39m(\u001B[38;5;28mself\u001B[39m, key):  \u001B[38;5;66;03m# noqa: F811\u001B[39;00m\n\u001B[1;32m   2791\u001B[0m \u001B[38;5;250m    \u001B[39m\u001B[38;5;124;03m\"\"\"Can be used to index columns (by string names) or rows (by integer index or iterable of indices or bools).\"\"\"\u001B[39;00m\n\u001B[0;32m-> 2792\u001B[0m     \u001B[38;5;28;01mreturn\u001B[39;00m \u001B[38;5;28;43mself\u001B[39;49m\u001B[38;5;241;43m.\u001B[39;49m\u001B[43m_getitem\u001B[49m\u001B[43m(\u001B[49m\u001B[43mkey\u001B[49m\u001B[43m)\u001B[49m\n",
      "File \u001B[0;32m~/miniconda3/envs/bcos/lib/python3.10/site-packages/datasets/arrow_dataset.py:2777\u001B[0m, in \u001B[0;36mDataset._getitem\u001B[0;34m(self, key, **kwargs)\u001B[0m\n\u001B[1;32m   2775\u001B[0m formatter \u001B[38;5;241m=\u001B[39m get_formatter(format_type, features\u001B[38;5;241m=\u001B[39m\u001B[38;5;28mself\u001B[39m\u001B[38;5;241m.\u001B[39m_info\u001B[38;5;241m.\u001B[39mfeatures, \u001B[38;5;241m*\u001B[39m\u001B[38;5;241m*\u001B[39mformat_kwargs)\n\u001B[1;32m   2776\u001B[0m pa_subtable \u001B[38;5;241m=\u001B[39m query_table(\u001B[38;5;28mself\u001B[39m\u001B[38;5;241m.\u001B[39m_data, key, indices\u001B[38;5;241m=\u001B[39m\u001B[38;5;28mself\u001B[39m\u001B[38;5;241m.\u001B[39m_indices \u001B[38;5;28;01mif\u001B[39;00m \u001B[38;5;28mself\u001B[39m\u001B[38;5;241m.\u001B[39m_indices \u001B[38;5;129;01mis\u001B[39;00m \u001B[38;5;129;01mnot\u001B[39;00m \u001B[38;5;28;01mNone\u001B[39;00m \u001B[38;5;28;01melse\u001B[39;00m \u001B[38;5;28;01mNone\u001B[39;00m)\n\u001B[0;32m-> 2777\u001B[0m formatted_output \u001B[38;5;241m=\u001B[39m \u001B[43mformat_table\u001B[49m\u001B[43m(\u001B[49m\n\u001B[1;32m   2778\u001B[0m \u001B[43m    \u001B[49m\u001B[43mpa_subtable\u001B[49m\u001B[43m,\u001B[49m\u001B[43m \u001B[49m\u001B[43mkey\u001B[49m\u001B[43m,\u001B[49m\u001B[43m \u001B[49m\u001B[43mformatter\u001B[49m\u001B[38;5;241;43m=\u001B[39;49m\u001B[43mformatter\u001B[49m\u001B[43m,\u001B[49m\u001B[43m \u001B[49m\u001B[43mformat_columns\u001B[49m\u001B[38;5;241;43m=\u001B[39;49m\u001B[43mformat_columns\u001B[49m\u001B[43m,\u001B[49m\u001B[43m \u001B[49m\u001B[43moutput_all_columns\u001B[49m\u001B[38;5;241;43m=\u001B[39;49m\u001B[43moutput_all_columns\u001B[49m\n\u001B[1;32m   2779\u001B[0m \u001B[43m\u001B[49m\u001B[43m)\u001B[49m\n\u001B[1;32m   2780\u001B[0m \u001B[38;5;28;01mreturn\u001B[39;00m formatted_output\n",
      "File \u001B[0;32m~/miniconda3/envs/bcos/lib/python3.10/site-packages/datasets/formatting/formatting.py:629\u001B[0m, in \u001B[0;36mformat_table\u001B[0;34m(table, key, formatter, format_columns, output_all_columns)\u001B[0m\n\u001B[1;32m    627\u001B[0m python_formatter \u001B[38;5;241m=\u001B[39m PythonFormatter(features\u001B[38;5;241m=\u001B[39m\u001B[38;5;28;01mNone\u001B[39;00m)\n\u001B[1;32m    628\u001B[0m \u001B[38;5;28;01mif\u001B[39;00m format_columns \u001B[38;5;129;01mis\u001B[39;00m \u001B[38;5;28;01mNone\u001B[39;00m:\n\u001B[0;32m--> 629\u001B[0m     \u001B[38;5;28;01mreturn\u001B[39;00m \u001B[43mformatter\u001B[49m\u001B[43m(\u001B[49m\u001B[43mpa_table\u001B[49m\u001B[43m,\u001B[49m\u001B[43m \u001B[49m\u001B[43mquery_type\u001B[49m\u001B[38;5;241;43m=\u001B[39;49m\u001B[43mquery_type\u001B[49m\u001B[43m)\u001B[49m\n\u001B[1;32m    630\u001B[0m \u001B[38;5;28;01melif\u001B[39;00m query_type \u001B[38;5;241m==\u001B[39m \u001B[38;5;124m\"\u001B[39m\u001B[38;5;124mcolumn\u001B[39m\u001B[38;5;124m\"\u001B[39m:\n\u001B[1;32m    631\u001B[0m     \u001B[38;5;28;01mif\u001B[39;00m key \u001B[38;5;129;01min\u001B[39;00m format_columns:\n",
      "File \u001B[0;32m~/miniconda3/envs/bcos/lib/python3.10/site-packages/datasets/formatting/formatting.py:398\u001B[0m, in \u001B[0;36mFormatter.__call__\u001B[0;34m(self, pa_table, query_type)\u001B[0m\n\u001B[1;32m    396\u001B[0m     \u001B[38;5;28;01mreturn\u001B[39;00m \u001B[38;5;28mself\u001B[39m\u001B[38;5;241m.\u001B[39mformat_row(pa_table)\n\u001B[1;32m    397\u001B[0m \u001B[38;5;28;01melif\u001B[39;00m query_type \u001B[38;5;241m==\u001B[39m \u001B[38;5;124m\"\u001B[39m\u001B[38;5;124mcolumn\u001B[39m\u001B[38;5;124m\"\u001B[39m:\n\u001B[0;32m--> 398\u001B[0m     \u001B[38;5;28;01mreturn\u001B[39;00m \u001B[38;5;28;43mself\u001B[39;49m\u001B[38;5;241;43m.\u001B[39;49m\u001B[43mformat_column\u001B[49m\u001B[43m(\u001B[49m\u001B[43mpa_table\u001B[49m\u001B[43m)\u001B[49m\n\u001B[1;32m    399\u001B[0m \u001B[38;5;28;01melif\u001B[39;00m query_type \u001B[38;5;241m==\u001B[39m \u001B[38;5;124m\"\u001B[39m\u001B[38;5;124mbatch\u001B[39m\u001B[38;5;124m\"\u001B[39m:\n\u001B[1;32m    400\u001B[0m     \u001B[38;5;28;01mreturn\u001B[39;00m \u001B[38;5;28mself\u001B[39m\u001B[38;5;241m.\u001B[39mformat_batch(pa_table)\n",
      "File \u001B[0;32m~/miniconda3/envs/bcos/lib/python3.10/site-packages/datasets/formatting/formatting.py:441\u001B[0m, in \u001B[0;36mPythonFormatter.format_column\u001B[0;34m(self, pa_table)\u001B[0m\n\u001B[1;32m    440\u001B[0m \u001B[38;5;28;01mdef\u001B[39;00m \u001B[38;5;21mformat_column\u001B[39m(\u001B[38;5;28mself\u001B[39m, pa_table: pa\u001B[38;5;241m.\u001B[39mTable) \u001B[38;5;241m-\u001B[39m\u001B[38;5;241m>\u001B[39m \u001B[38;5;28mlist\u001B[39m:\n\u001B[0;32m--> 441\u001B[0m     column \u001B[38;5;241m=\u001B[39m \u001B[38;5;28;43mself\u001B[39;49m\u001B[38;5;241;43m.\u001B[39;49m\u001B[43mpython_arrow_extractor\u001B[49m\u001B[43m(\u001B[49m\u001B[43m)\u001B[49m\u001B[38;5;241;43m.\u001B[39;49m\u001B[43mextract_column\u001B[49m\u001B[43m(\u001B[49m\u001B[43mpa_table\u001B[49m\u001B[43m)\u001B[49m\n\u001B[1;32m    442\u001B[0m     column \u001B[38;5;241m=\u001B[39m \u001B[38;5;28mself\u001B[39m\u001B[38;5;241m.\u001B[39mpython_features_decoder\u001B[38;5;241m.\u001B[39mdecode_column(column, pa_table\u001B[38;5;241m.\u001B[39mcolumn_names[\u001B[38;5;241m0\u001B[39m])\n\u001B[1;32m    443\u001B[0m     \u001B[38;5;28;01mreturn\u001B[39;00m column\n",
      "File \u001B[0;32m~/miniconda3/envs/bcos/lib/python3.10/site-packages/datasets/formatting/formatting.py:147\u001B[0m, in \u001B[0;36mPythonArrowExtractor.extract_column\u001B[0;34m(self, pa_table)\u001B[0m\n\u001B[1;32m    146\u001B[0m \u001B[38;5;28;01mdef\u001B[39;00m \u001B[38;5;21mextract_column\u001B[39m(\u001B[38;5;28mself\u001B[39m, pa_table: pa\u001B[38;5;241m.\u001B[39mTable) \u001B[38;5;241m-\u001B[39m\u001B[38;5;241m>\u001B[39m \u001B[38;5;28mlist\u001B[39m:\n\u001B[0;32m--> 147\u001B[0m     \u001B[38;5;28;01mreturn\u001B[39;00m \u001B[43mpa_table\u001B[49m\u001B[38;5;241;43m.\u001B[39;49m\u001B[43mcolumn\u001B[49m\u001B[43m(\u001B[49m\u001B[38;5;241;43m0\u001B[39;49m\u001B[43m)\u001B[49m\u001B[38;5;241;43m.\u001B[39;49m\u001B[43mto_pylist\u001B[49m\u001B[43m(\u001B[49m\u001B[43m)\u001B[49m\n",
      "File \u001B[0;32m~/miniconda3/envs/bcos/lib/python3.10/site-packages/pyarrow/table.pxi:1312\u001B[0m, in \u001B[0;36mpyarrow.lib.ChunkedArray.to_pylist\u001B[0;34m()\u001B[0m\n",
      "File \u001B[0;32m~/miniconda3/envs/bcos/lib/python3.10/site-packages/pyarrow/array.pxi:1521\u001B[0m, in \u001B[0;36mpyarrow.lib.Array.to_pylist\u001B[0;34m()\u001B[0m\n",
      "File \u001B[0;32m~/miniconda3/envs/bcos/lib/python3.10/site-packages/pyarrow/scalar.pxi:748\u001B[0m, in \u001B[0;36mpyarrow.lib.StructScalar.as_py\u001B[0;34m()\u001B[0m\n",
      "File \u001B[0;32m~/miniconda3/envs/bcos/lib/python3.10/_collections_abc.py:828\u001B[0m, in \u001B[0;36mMapping.keys\u001B[0;34m(self)\u001B[0m\n\u001B[1;32m    825\u001B[0m     \u001B[38;5;28;01melse\u001B[39;00m:\n\u001B[1;32m    826\u001B[0m         \u001B[38;5;28;01mreturn\u001B[39;00m \u001B[38;5;28;01mTrue\u001B[39;00m\n\u001B[0;32m--> 828\u001B[0m \u001B[38;5;28;01mdef\u001B[39;00m \u001B[38;5;21mkeys\u001B[39m(\u001B[38;5;28mself\u001B[39m):\n\u001B[1;32m    829\u001B[0m     \u001B[38;5;124m\"\u001B[39m\u001B[38;5;124mD.keys() -> a set-like object providing a view on D\u001B[39m\u001B[38;5;124m'\u001B[39m\u001B[38;5;124ms keys\u001B[39m\u001B[38;5;124m\"\u001B[39m\n\u001B[1;32m    830\u001B[0m     \u001B[38;5;28;01mreturn\u001B[39;00m KeysView(\u001B[38;5;28mself\u001B[39m)\n",
      "\u001B[0;31mKeyboardInterrupt\u001B[0m: "
     ]
    }
   ],
   "source": [
    "from tqdm import tqdm\n",
    "token_set = set()\n",
    "\n",
    "i = 0\n",
    "counts = collections.Counter([])\n",
    "for i in tqdm(range(100)):\n",
    "  data_point = opus100[\"train\"]['translation'][i]\n",
    "  input = tokenizer(data_point['en']).input_ids\n",
    "  output = tokenizer(data_point['es']).input_ids\n",
    "  counts.update(input)\n",
    "  counts.update(output)\n",
    "\n",
    "print(len(counts))\n"
   ],
   "metadata": {
    "collapsed": false,
    "ExecuteTime": {
     "end_time": "2023-07-07T19:07:39.795425244Z",
     "start_time": "2023-07-07T19:07:37.233635634Z"
    }
   }
  },
  {
   "cell_type": "code",
   "execution_count": null,
   "outputs": [],
   "source": [
    "input"
   ],
   "metadata": {
    "collapsed": false
   }
  },
  {
   "cell_type": "code",
   "execution_count": 1,
   "outputs": [],
   "source": [
    "from model import TinyTransformer, TinyTransformerConfig\n"
   ],
   "metadata": {
    "collapsed": false,
    "ExecuteTime": {
     "end_time": "2023-07-07T18:56:34.048521206Z",
     "start_time": "2023-07-07T18:56:32.965169645Z"
    }
   }
  },
  {
   "cell_type": "code",
   "execution_count": 2,
   "outputs": [],
   "source": [
    "student_config = TinyTransformerConfig()\n"
   ],
   "metadata": {
    "collapsed": false,
    "ExecuteTime": {
     "end_time": "2023-07-07T18:56:34.050950001Z",
     "start_time": "2023-07-07T18:56:34.049081112Z"
    }
   }
  },
  {
   "cell_type": "code",
   "execution_count": 3,
   "outputs": [],
   "source": [
    "student_model = TinyTransformer(student_config)\n"
   ],
   "metadata": {
    "collapsed": false,
    "ExecuteTime": {
     "end_time": "2023-07-07T18:56:34.092772231Z",
     "start_time": "2023-07-07T18:56:34.051349794Z"
    }
   }
  },
  {
   "cell_type": "code",
   "execution_count": 4,
   "outputs": [
    {
     "ename": "NameError",
     "evalue": "name 'encoder_in' is not defined",
     "output_type": "error",
     "traceback": [
      "\u001B[0;31m---------------------------------------------------------------------------\u001B[0m",
      "\u001B[0;31mNameError\u001B[0m                                 Traceback (most recent call last)",
      "Cell \u001B[0;32mIn[4], line 1\u001B[0m\n\u001B[0;32m----> 1\u001B[0m out \u001B[38;5;241m=\u001B[39m student_model(input_ids\u001B[38;5;241m=\u001B[39m\u001B[43mencoder_in\u001B[49m, decoder_input_ids\u001B[38;5;241m=\u001B[39mdecoder_in)\n",
      "\u001B[0;31mNameError\u001B[0m: name 'encoder_in' is not defined"
     ]
    }
   ],
   "source": [
    "out = student_model(input_ids=encoder_in, decoder_input_ids=decoder_in)\n"
   ],
   "metadata": {
    "collapsed": false,
    "ExecuteTime": {
     "end_time": "2023-07-07T18:56:34.269731655Z",
     "start_time": "2023-07-07T18:56:34.093447343Z"
    }
   }
  },
  {
   "cell_type": "code",
   "execution_count": 9,
   "outputs": [
    {
     "ename": "NameError",
     "evalue": "name 'out' is not defined",
     "output_type": "error",
     "traceback": [
      "\u001B[0;31m---------------------------------------------------------------------------\u001B[0m",
      "\u001B[0;31mNameError\u001B[0m                                 Traceback (most recent call last)",
      "Cell \u001B[0;32mIn[9], line 1\u001B[0m\n\u001B[0;32m----> 1\u001B[0m \u001B[43mout\u001B[49m\u001B[38;5;241m.\u001B[39mshape\n",
      "\u001B[0;31mNameError\u001B[0m: name 'out' is not defined"
     ]
    }
   ],
   "source": [
    "out.shape\n"
   ],
   "metadata": {
    "collapsed": false,
    "ExecuteTime": {
     "end_time": "2023-07-07T18:56:59.909691380Z",
     "start_time": "2023-07-07T18:56:59.863716881Z"
    }
   }
  },
  {
   "cell_type": "code",
   "execution_count": 10,
   "outputs": [
    {
     "ename": "NameError",
     "evalue": "name 'decoder_in' is not defined",
     "output_type": "error",
     "traceback": [
      "\u001B[0;31m---------------------------------------------------------------------------\u001B[0m",
      "\u001B[0;31mNameError\u001B[0m                                 Traceback (most recent call last)",
      "Cell \u001B[0;32mIn[10], line 1\u001B[0m\n\u001B[0;32m----> 1\u001B[0m \u001B[43mdecoder_in\u001B[49m\n",
      "\u001B[0;31mNameError\u001B[0m: name 'decoder_in' is not defined"
     ]
    }
   ],
   "source": [
    "decoder_in\n"
   ],
   "metadata": {
    "collapsed": false,
    "ExecuteTime": {
     "end_time": "2023-07-07T18:57:00.562925823Z",
     "start_time": "2023-07-07T18:57:00.555956743Z"
    }
   }
  },
  {
   "cell_type": "code",
   "execution_count": 11,
   "outputs": [],
   "source": [
    "torch.save(student_model, \"test_transformer.ckpt\")\n"
   ],
   "metadata": {
    "collapsed": false,
    "ExecuteTime": {
     "end_time": "2023-07-07T18:57:02.893246401Z",
     "start_time": "2023-07-07T18:57:02.850092948Z"
    }
   }
  },
  {
   "cell_type": "code",
   "execution_count": null,
   "outputs": [],
   "source": [],
   "metadata": {
    "collapsed": false
   }
  }
 ],
 "metadata": {
  "kernelspec": {
   "display_name": "Python 3",
   "language": "python",
   "name": "python3"
  },
  "language_info": {
   "codemirror_mode": {
    "name": "ipython",
    "version": 2
   },
   "file_extension": ".py",
   "mimetype": "text/x-python",
   "name": "python",
   "nbconvert_exporter": "python",
   "pygments_lexer": "ipython2",
   "version": "2.7.6"
  }
 },
 "nbformat": 4,
 "nbformat_minor": 0
}
